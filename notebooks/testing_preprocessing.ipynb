{
 "cells": [
  {
   "cell_type": "code",
   "execution_count": 4,
   "id": "828c2870-9ce0-465b-bb54-34e89ceeb1cc",
   "metadata": {},
   "outputs": [
    {
     "ename": "ModuleNotFoundError",
     "evalue": "No module named 'antipasti'",
     "output_type": "error",
     "traceback": [
      "\u001b[0;31m---------------------------------------------------------------------------\u001b[0m",
      "\u001b[0;31mModuleNotFoundError\u001b[0m                       Traceback (most recent call last)",
      "Cell \u001b[0;32mIn[4], line 1\u001b[0m\n\u001b[0;32m----> 1\u001b[0m \u001b[38;5;28;01mfrom\u001b[39;00m \u001b[38;5;21;01mantipasti\u001b[39;00m\u001b[38;5;21;01m.\u001b[39;00m\u001b[38;5;21;01mpreprocessing\u001b[39;00m\u001b[38;5;21;01m.\u001b[39;00m\u001b[38;5;21;01mpreprocessing\u001b[39;00m \u001b[38;5;28;01mimport\u001b[39;00m Preprocessing\n",
      "\u001b[0;31mModuleNotFoundError\u001b[0m: No module named 'antipasti'"
     ]
    }
   ],
   "source": [
    "from antipasti.preprocessing.preprocessing import Preprocessing"
   ]
  },
  {
   "cell_type": "code",
   "execution_count": null,
   "id": "9eea15a8-bc64-4bae-bc9f-56ddd551f517",
   "metadata": {},
   "outputs": [],
   "source": [
    "from ANTIPASTI-main.antipasti.preprocessing.preprocessing import Preprocessing\n",
    "\n",
    "# Initialize the Preprocessing class\n",
    "preprocessor = Preprocessing(\n",
    "    data_path='path_to_data_directory/',  # Adjust this path as needed\n",
    "    scripts_path='path_to_scripts_directory/',  # Adjust this path as needed\n",
    "    structures_path='path_to_structures_directory/',  # Adjust this path as needed\n",
    "    test_data_path='notebooks/test_data/',\n",
    "    test_structure_path='notebooks/test_data/structure/',\n",
    "    test_dccm_map_path='notebooks/test_data/dccm_maps/',  # Ensure this directory exists or is created\n",
    "    test_pdb_id='your_pdb_id_here',  # Replace with your actual PDB ID\n",
    "    stage='predicting'  # Set the stage to predicting to use test paths\n",
    ")\n",
    "\n",
    "# Generate the normal mode correlation map for the test PDB file\n",
    "preprocessor.load_test_image()  # This will process the file and generate the map\n"
   ]
  }
 ],
 "metadata": {
  "kernelspec": {
   "display_name": "Python 3 (ipykernel)",
   "language": "python",
   "name": "python3"
  },
  "language_info": {
   "codemirror_mode": {
    "name": "ipython",
    "version": 3
   },
   "file_extension": ".py",
   "mimetype": "text/x-python",
   "name": "python",
   "nbconvert_exporter": "python",
   "pygments_lexer": "ipython3",
   "version": "3.10.12"
  }
 },
 "nbformat": 4,
 "nbformat_minor": 5
}
