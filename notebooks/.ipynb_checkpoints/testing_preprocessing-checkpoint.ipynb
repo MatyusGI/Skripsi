{
 "cells": [
  {
   "cell_type": "code",
   "execution_count": 1,
   "id": "828c2870-9ce0-465b-bb54-34e89ceeb1cc",
   "metadata": {},
   "outputs": [],
   "source": [
    "from antipasti.preprocessing.preprocessing import Preprocessing"
   ]
  },
  {
   "cell_type": "code",
   "execution_count": null,
   "id": "9eea15a8-bc64-4bae-bc9f-56ddd551f517",
   "metadata": {},
   "outputs": [],
   "source": [
    "\n",
    "\n",
    "preprocessed_data = Preprocessing(dccm_map_path=dccm_map_path, modes=modes, pathological=pathological, renew_maps=renew_maps, renew_residues=renew_residues, stage=stage, test_data_path=test_data_path, test_dccm_map_path=test_dccm_map_path, test_residues_path=test_residues_path, test_structure_path=test_structure_path, test_pdb_id=test_pdb)"
   ]
  }
 ],
 "metadata": {
  "kernelspec": {
   "display_name": "Python 3 (ipykernel)",
   "language": "python",
   "name": "python3"
  },
  "language_info": {
   "codemirror_mode": {
    "name": "ipython",
    "version": 3
   },
   "file_extension": ".py",
   "mimetype": "text/x-python",
   "name": "python",
   "nbconvert_exporter": "python",
   "pygments_lexer": "ipython3",
   "version": "3.12.2"
  }
 },
 "nbformat": 4,
 "nbformat_minor": 5
}
